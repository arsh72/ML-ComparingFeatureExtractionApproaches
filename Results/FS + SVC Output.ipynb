Confusion matrix for 12 dimensional data = 
 [[   6  894]
 [1597    3]]
For 1 features, Training time = 268.013 ms, Testing time = 39.948 ms
Confusion matrix for 11 dimensional data = 
 [[   8  892]
 [1598    2]]
For 1 features, Training time = 128.036 ms, Testing time = 12.0 ms
Confusion matrix for 10 dimensional data = 
 [[   8  892]
 [1598    2]]
For 1 features, Training time = 114.2 ms, Testing time = 11.994 ms
Confusion matrix for 9 dimensional data = 
 [[   8  892]
 [1597    3]]
For 1 features, Training time = 112.039 ms, Testing time = 16.087 ms
Confusion matrix for 8 dimensional data = 
 [[   6  894]
 [1599    1]]
For 1 features, Training time = 103.466 ms, Testing time = 14.236 ms
Confusion matrix for 7 dimensional data = 
 [[   5  895]
 [1599    1]]
For 1 features, Training time = 264.001 ms, Testing time = 31.999 ms
Confusion matrix for 6 dimensional data = 
 [[   5  895]
 [1599    1]]
For 1 features, Training time = 116.533 ms, Testing time = 12.01 ms
Confusion matrix for 5 dimensional data = 
 [[   5  895]
 [1599    1]]
For 1 features, Training time = 176.0 ms, Testing time = 19.959 ms
Confusion matrix for 4 dimensional data = 
 [[   4  896]
 [1600    0]]
For 1 features, Training time = 124.003 ms, Testing time = 16.0 ms
Confusion matrix for 3 dimensional data = 
 [[   3  897]
 [1600    0]]
For 1 features, Training time = 127.965 ms, Testing time = 15.995 ms
Confusion matrix for 2 dimensional data = 
 [[   3  897]
 [1600    0]]
For 1 features, Training time = 84.411 ms, Testing time = 12.046 ms
Confusion matrix for 1 dimensional data = 
 [[   3  897]
 [1600    0]]
For 1 features, Training time = 60.0 ms, Testing time = 16.006 ms
For 13 features,Total Computational runtime  = 492.002 ms
Classification error with 13 features = 10
For 12 features,Total Computational runtime  = 307.961 ms
Classification error with 12 features = 9
For 11 features,Total Computational runtime  = 140.036 ms
Classification error with 11 features = 10
For 10 features,Total Computational runtime  = 126.194 ms
Classification error with 10 features = 10
For 9 features,Total Computational runtime  = 128.126 ms
Classification error with 9 features = 11
For 8 features,Total Computational runtime  = 117.703 ms
Classification error with 8 features = 7
For 7 features,Total Computational runtime  = 296.0 ms
Classification error with 7 features = 6
For 6 features,Total Computational runtime  = 128.543 ms
Classification error with 6 features = 6
For 5 features,Total Computational runtime  = 195.959 ms
Classification error with 5 features = 6
For 4 features,Total Computational runtime  = 140.003 ms
Classification error with 4 features = 4
For 3 features,Total Computational runtime  = 143.96 ms
Classification error with 3 features = 3
For 2 features,Total Computational runtime  = 96.457 ms
Classification error with 2 features = 3
For 1 features,Total Computational runtime  = 76.005 ms
Classification error with 1 features = 3
