Confusion matrix for 13 dimensional data = 
 [[   4  896]
 [1543   57]]
For 13 features, Training time = 24.007 ms, Testing time = 0.0 ms
Confusion matrix for 12 dimensional data = 
 [[   5  895]
 [1543   57]]
For 12 features, Training time = 19.998 ms, Testing time = 0.0 ms
Confusion matrix for 11 dimensional data = 
 [[ 118  782]
 [1474  126]]
For 11 features, Training time = 16.002 ms, Testing time = 0.0 ms
Confusion matrix for 10 dimensional data = 
 [[ 118  782]
 [1475  125]]
For 10 features, Training time = 12.004 ms, Testing time = 3.991 ms
Confusion matrix for 9 dimensional data = 
 [[ 113  787]
 [1477  123]]
For 9 features, Training time = 11.989 ms, Testing time = 4.01 ms
Confusion matrix for 8 dimensional data = 
 [[ 114  786]
 [1474  126]]
For 8 features, Training time = 11.988 ms, Testing time = 0.0 ms
Confusion matrix for 7 dimensional data = 
 [[ 115  785]
 [1474  126]]
For 7 features, Training time = 12.054 ms, Testing time = 0.0 ms
Confusion matrix for 6 dimensional data = 
 [[ 116  784]
 [1473  127]]
For 6 features, Training time = 11.963 ms, Testing time = 0.0 ms
Confusion matrix for 5 dimensional data = 
 [[ 118  782]
 [1465  135]]
For 5 features, Training time = 8.015 ms, Testing time = 0.0 ms
Confusion matrix for 4 dimensional data = 
 [[ 118  782]
 [1466  134]]
For 4 features, Training time = 3.938 ms, Testing time = 3.999 ms
Confusion matrix for 3 dimensional data = 
 [[ 121  779]
 [1465  135]]
For 3 features, Training time = 7.999 ms, Testing time = 0.0 ms
Confusion matrix for 2 dimensional data = 
 [[ 120  780]
 [1465  135]]
For 2 features, Training time = 3.977 ms, Testing time = 0.0 ms
Confusion matrix for 1 dimensional data = 
 [[ 879   21]
 [1571   29]]
For 1 features, Training time = 3.951 ms, Testing time = 0.0 ms
For 13 features,Total Computational runtime  = 24.007 ms
Classification error with 13 features = 61
For 12 features,Total Computational runtime  = 19.998 ms
Classification error with 12 features = 62
For 11 features,Total Computational runtime  = 16.002 ms
Classification error with 11 features = 244
For 10 features,Total Computational runtime  = 15.995 ms
Classification error with 10 features = 243
For 9 features,Total Computational runtime  = 15.999 ms
Classification error with 9 features = 236
For 8 features,Total Computational runtime  = 11.988 ms
Classification error with 8 features = 240
For 7 features,Total Computational runtime  = 12.054 ms
Classification error with 7 features = 241
For 6 features,Total Computational runtime  = 11.963 ms
Classification error with 6 features = 243
For 5 features,Total Computational runtime  = 8.015 ms
Classification error with 5 features = 253
For 4 features,Total Computational runtime  = 7.936 ms
Classification error with 4 features = 252
For 3 features,Total Computational runtime  = 7.999 ms
Classification error with 3 features = 256
For 2 features,Total Computational runtime  = 3.977 ms
Classification error with 2 features = 255
For 1 features,Total Computational runtime  = 3.951 ms
Classification error with 1 features = 908
