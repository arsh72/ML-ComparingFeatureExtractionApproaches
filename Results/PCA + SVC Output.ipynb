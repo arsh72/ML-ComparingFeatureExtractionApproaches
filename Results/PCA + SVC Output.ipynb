Confusion matrix for 13 dimensional data = 
 [[   3  897]
 [1593    7]]
For 13 features, Training time = 104.01 ms, Testing time = 23.998 ms
Confusion matrix for 12 dimensional data = 
 [[   3  897]
 [1593    7]]
For 12 features, Training time = 91.948 ms, Testing time = 27.997 ms
Confusion matrix for 11 dimensional data = 
 [[ 141  759]
 [1496  104]]
For 11 features, Training time = 231.93 ms, Testing time = 55.997 ms
Confusion matrix for 10 dimensional data = 
 [[ 144  756]
 [1498  102]]
For 10 features, Training time = 92.005 ms, Testing time = 31.998 ms
Confusion matrix for 9 dimensional data = 
 [[ 142  758]
 [1494  106]]
For 9 features, Training time = 88.034 ms, Testing time = 31.966 ms
Confusion matrix for 8 dimensional data = 
 [[ 137  763]
 [1496  104]]
For 8 features, Training time = 96.036 ms, Testing time = 28.001 ms
Confusion matrix for 7 dimensional data = 
 [[ 135  765]
 [1489  111]]
For 7 features, Training time = 76.038 ms, Testing time = 27.96 ms
Confusion matrix for 6 dimensional data = 
 [[ 139  761]
 [1489  111]]
For 6 features, Training time = 104.056 ms, Testing time = 43.996 ms
Confusion matrix for 5 dimensional data = 
 [[ 140  760]
 [1493  107]]
For 5 features, Training time = 83.989 ms, Testing time = 27.966 ms
Confusion matrix for 4 dimensional data = 
 [[ 141  759]
 [1490  110]]
For 4 features, Training time = 71.999 ms, Testing time = 28.036 ms
Confusion matrix for 3 dimensional data = 
 [[ 138  762]
 [1489  111]]
For 3 features, Training time = 68.032 ms, Testing time = 28.0 ms
Confusion matrix for 2 dimensional data = 
 [[ 138  762]
 [1489  111]]
For 2 features, Training time = 59.998 ms, Testing time = 32.003 ms
Confusion matrix for 1 dimensional data = 
 [[ 900    0]
 [1600    0]]
For 1 features, Training time = 191.962 ms, Testing time = 80.038 ms
For 13 features,Total Computational runtime  = 128.009 ms
Classification error with 13 features = 10
For 12 features,Total Computational runtime  = 119.945 ms
Classification error with 12 features = 10
For 11 features,Total Computational runtime  = 287.927 ms
Classification error with 11 features = 245
For 10 features,Total Computational runtime  = 124.004 ms
Classification error with 10 features = 246
For 9 features,Total Computational runtime  = 120.001 ms
Classification error with 9 features = 248
For 8 features,Total Computational runtime  = 124.037 ms
Classification error with 8 features = 241
For 7 features,Total Computational runtime  = 103.998 ms
Classification error with 7 features = 246
For 6 features,Total Computational runtime  = 148.053 ms
Classification error with 6 features = 250
For 5 features,Total Computational runtime  = 111.954 ms
Classification error with 5 features = 247
For 4 features,Total Computational runtime  = 100.035 ms
Classification error with 4 features = 251
For 3 features,Total Computational runtime  = 96.032 ms
Classification error with 3 features = 249
For 2 features,Total Computational runtime  = 92.001 ms
Classification error with 2 features = 249
For 1 features,Total Computational runtime  = 272.0 ms
Classification error with 1 features = 900
