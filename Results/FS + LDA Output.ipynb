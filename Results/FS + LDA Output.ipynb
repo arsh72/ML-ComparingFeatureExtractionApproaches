Confusion matrix for 12 dimensional data = 
 [[   2  898]
 [1551   49]]
For 1 features, Training time = 16.0 ms, Testing time = 0.0 ms
Confusion matrix for 11 dimensional data = 
 [[   0  900]
 [1551   49]]
For 1 features, Training time = 16.0 ms, Testing time = 0.0 ms
Confusion matrix for 10 dimensional data = 
 [[   0  900]
 [1549   51]]
For 1 features, Training time = 49.045 ms, Testing time = 0.0 ms
Confusion matrix for 9 dimensional data = 
 [[   0  900]
 [1550   50]]
For 1 features, Training time = 11.999 ms, Testing time = 0.0 ms
Confusion matrix for 8 dimensional data = 
 [[   0  900]
 [1550   50]]
For 1 features, Training time = 28.001 ms, Testing time = 0.0 ms
Confusion matrix for 7 dimensional data = 
 [[   0  900]
 [1550   50]]
For 1 features, Training time = 23.965 ms, Testing time = 0.0 ms
Confusion matrix for 6 dimensional data = 
 [[   0  900]
 [1549   51]]
For 1 features, Training time = 19.958 ms, Testing time = 4.041 ms
Confusion matrix for 5 dimensional data = 
 [[   0  900]
 [1551   49]]
For 1 features, Training time = 23.968 ms, Testing time = 0.0 ms
Confusion matrix for 4 dimensional data = 
 [[   0  900]
 [1550   50]]
For 1 features, Training time = 19.993 ms, Testing time = 0.0 ms
Confusion matrix for 3 dimensional data = 
 [[   0  900]
 [1554   46]]
For 1 features, Training time = 16.002 ms, Testing time = 0.0 ms
Confusion matrix for 2 dimensional data = 
 [[   0  900]
 [1553   47]]
For 1 features, Training time = 7.997 ms, Testing time = 0.0 ms
Confusion matrix for 1 dimensional data = 
 [[   0  900]
 [1552   48]]
For 1 features, Training time = 3.996 ms, Testing time = 0.0 ms
For 13 features,Total Computational runtime  = 64.008 ms
Classification error with 13 features = 50
For 12 features,Total Computational runtime  = 16.0 ms
Classification error with 12 features = 51
For 11 features,Total Computational runtime  = 16.0 ms
Classification error with 11 features = 49
For 10 features,Total Computational runtime  = 49.045 ms
Classification error with 10 features = 51
For 9 features,Total Computational runtime  = 11.999 ms
Classification error with 9 features = 50
For 8 features,Total Computational runtime  = 28.001 ms
Classification error with 8 features = 50
For 7 features,Total Computational runtime  = 23.965 ms
Classification error with 7 features = 50
For 6 features,Total Computational runtime  = 23.999 ms
Classification error with 6 features = 51
For 5 features,Total Computational runtime  = 23.968 ms
Classification error with 5 features = 49
For 4 features,Total Computational runtime  = 19.993 ms
Classification error with 4 features = 50
For 3 features,Total Computational runtime  = 16.002 ms
Classification error with 3 features = 46
For 2 features,Total Computational runtime  = 7.997 ms
Classification error with 2 features = 47
For 1 features,Total Computational runtime  = 3.996 ms
Classification error with 1 features = 48
